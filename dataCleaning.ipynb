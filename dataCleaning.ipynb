{
 "cells": [
  {
   "cell_type": "markdown",
   "metadata": {},
   "source": [
    "<h1>Data cleaning Jupyter Notebook for the Wikipedia movie data set</h1>\n",
    "\n",
    "<em>Penca Matei </em> <br>\n",
    "<em>5th November 2021 </em>\n",
    "\n",
    "<p>If you have the wiki_movies.csv data set from Kaggle (https://www.kaggle.com/jrobischon/wikipedia-movie-plots),\n",
    "you can run this Jupyter Notebook to get a clean data set with 4.5k entries that can be used with the ML algorithms.</p>"
   ]
  },
  {
   "cell_type": "code",
   "execution_count": 27,
   "metadata": {
    "pycharm": {
     "name": "#%%\n"
    }
   },
   "outputs": [],
   "source": [
    "# Import pandas as the main library for data cleaning\n",
    "import pandas as pd"
   ]
  },
  {
   "cell_type": "code",
   "execution_count": 28,
   "metadata": {
    "pycharm": {
     "name": "#%%\n"
    }
   },
   "outputs": [
    {
     "data": {
      "text/plain": "       Release Year                             Title Origin/Ethnicity  \\\n0              1901            Kansas Saloon Smashers         American   \n1              1901     Love by the Light of the Moon         American   \n2              1901           The Martyred Presidents         American   \n3              1901  Terrible Teddy, the Grizzly King         American   \n4              1902            Jack and the Beanstalk         American   \n...             ...                               ...              ...   \n34881          2014                 The Water Diviner          Turkish   \n34882          2017                Çalgı Çengi İkimiz          Turkish   \n34883          2017                      Olanlar Oldu          Turkish   \n34884          2017                  Non-Transferable          Turkish   \n34885          2017                İstanbul Kırmızısı          Turkish   \n\n                                 Director  \\\n0                                 Unknown   \n1                                 Unknown   \n2                                 Unknown   \n3                                 Unknown   \n4      George S. Fleming, Edwin S. Porter   \n...                                   ...   \n34881             Director: Russell Crowe   \n34882                      Selçuk Aydemir   \n34883                         Hakan Algül   \n34884                     Brendan Bradley   \n34885                      Ferzan Özpetek   \n\n                                                    Cast            Genre  \\\n0                                                    NaN          unknown   \n1                                                    NaN          unknown   \n2                                                    NaN          unknown   \n3                                                    NaN          unknown   \n4                                                    NaN          unknown   \n...                                                  ...              ...   \n34881  Director: Russell Crowe\\r\\nCast: Russell Crowe...          unknown   \n34882                          Ahmet Kural, Murat Cemcir           comedy   \n34883              Ata Demirer, Tuvana Türkay, Ülkü Duru           comedy   \n34884  YouTubers Shanna Malcolm, Shira Lazar, Sara Fl...  romantic comedy   \n34885  Halit Ergenç, Tuba Büyüküstün, Mehmet Günsür, ...         romantic   \n\n                                               Wiki Page  \\\n0      https://en.wikipedia.org/wiki/Kansas_Saloon_Sm...   \n1      https://en.wikipedia.org/wiki/Love_by_the_Ligh...   \n2      https://en.wikipedia.org/wiki/The_Martyred_Pre...   \n3      https://en.wikipedia.org/wiki/Terrible_Teddy,_...   \n4      https://en.wikipedia.org/wiki/Jack_and_the_Bea...   \n...                                                  ...   \n34881    https://en.wikipedia.org/wiki/The_Water_Diviner   \n34882  https://en.wikipedia.org/wiki/%C3%87alg%C4%B1_...   \n34883         https://en.wikipedia.org/wiki/Olanlar_Oldu   \n34884  https://en.wikipedia.org/wiki/Non-Transferable...   \n34885  https://en.wikipedia.org/wiki/%C4%B0stanbul_K%...   \n\n                                                    Plot  \n0      A bartender is working at a saloon, serving dr...  \n1      The moon, painted with a smiling face hangs ov...  \n2      The film, just over a minute long, is composed...  \n3      Lasting just 61 seconds and consisting of two ...  \n4      The earliest known adaptation of the classic f...  \n...                                                  ...  \n34881  The film begins in 1919, just after World War ...  \n34882  Two musicians, Salih and Gürkan, described the...  \n34883  Zafer, a sailor living with his mother Döndü i...  \n34884  The film centres around a young woman named Am...  \n34885  The writer Orhan Şahin returns to İstanbul aft...  \n\n[34886 rows x 8 columns]",
      "text/html": "<div>\n<style scoped>\n    .dataframe tbody tr th:only-of-type {\n        vertical-align: middle;\n    }\n\n    .dataframe tbody tr th {\n        vertical-align: top;\n    }\n\n    .dataframe thead th {\n        text-align: right;\n    }\n</style>\n<table border=\"1\" class=\"dataframe\">\n  <thead>\n    <tr style=\"text-align: right;\">\n      <th></th>\n      <th>Release Year</th>\n      <th>Title</th>\n      <th>Origin/Ethnicity</th>\n      <th>Director</th>\n      <th>Cast</th>\n      <th>Genre</th>\n      <th>Wiki Page</th>\n      <th>Plot</th>\n    </tr>\n  </thead>\n  <tbody>\n    <tr>\n      <th>0</th>\n      <td>1901</td>\n      <td>Kansas Saloon Smashers</td>\n      <td>American</td>\n      <td>Unknown</td>\n      <td>NaN</td>\n      <td>unknown</td>\n      <td>https://en.wikipedia.org/wiki/Kansas_Saloon_Sm...</td>\n      <td>A bartender is working at a saloon, serving dr...</td>\n    </tr>\n    <tr>\n      <th>1</th>\n      <td>1901</td>\n      <td>Love by the Light of the Moon</td>\n      <td>American</td>\n      <td>Unknown</td>\n      <td>NaN</td>\n      <td>unknown</td>\n      <td>https://en.wikipedia.org/wiki/Love_by_the_Ligh...</td>\n      <td>The moon, painted with a smiling face hangs ov...</td>\n    </tr>\n    <tr>\n      <th>2</th>\n      <td>1901</td>\n      <td>The Martyred Presidents</td>\n      <td>American</td>\n      <td>Unknown</td>\n      <td>NaN</td>\n      <td>unknown</td>\n      <td>https://en.wikipedia.org/wiki/The_Martyred_Pre...</td>\n      <td>The film, just over a minute long, is composed...</td>\n    </tr>\n    <tr>\n      <th>3</th>\n      <td>1901</td>\n      <td>Terrible Teddy, the Grizzly King</td>\n      <td>American</td>\n      <td>Unknown</td>\n      <td>NaN</td>\n      <td>unknown</td>\n      <td>https://en.wikipedia.org/wiki/Terrible_Teddy,_...</td>\n      <td>Lasting just 61 seconds and consisting of two ...</td>\n    </tr>\n    <tr>\n      <th>4</th>\n      <td>1902</td>\n      <td>Jack and the Beanstalk</td>\n      <td>American</td>\n      <td>George S. Fleming, Edwin S. Porter</td>\n      <td>NaN</td>\n      <td>unknown</td>\n      <td>https://en.wikipedia.org/wiki/Jack_and_the_Bea...</td>\n      <td>The earliest known adaptation of the classic f...</td>\n    </tr>\n    <tr>\n      <th>...</th>\n      <td>...</td>\n      <td>...</td>\n      <td>...</td>\n      <td>...</td>\n      <td>...</td>\n      <td>...</td>\n      <td>...</td>\n      <td>...</td>\n    </tr>\n    <tr>\n      <th>34881</th>\n      <td>2014</td>\n      <td>The Water Diviner</td>\n      <td>Turkish</td>\n      <td>Director: Russell Crowe</td>\n      <td>Director: Russell Crowe\\r\\nCast: Russell Crowe...</td>\n      <td>unknown</td>\n      <td>https://en.wikipedia.org/wiki/The_Water_Diviner</td>\n      <td>The film begins in 1919, just after World War ...</td>\n    </tr>\n    <tr>\n      <th>34882</th>\n      <td>2017</td>\n      <td>Çalgı Çengi İkimiz</td>\n      <td>Turkish</td>\n      <td>Selçuk Aydemir</td>\n      <td>Ahmet Kural, Murat Cemcir</td>\n      <td>comedy</td>\n      <td>https://en.wikipedia.org/wiki/%C3%87alg%C4%B1_...</td>\n      <td>Two musicians, Salih and Gürkan, described the...</td>\n    </tr>\n    <tr>\n      <th>34883</th>\n      <td>2017</td>\n      <td>Olanlar Oldu</td>\n      <td>Turkish</td>\n      <td>Hakan Algül</td>\n      <td>Ata Demirer, Tuvana Türkay, Ülkü Duru</td>\n      <td>comedy</td>\n      <td>https://en.wikipedia.org/wiki/Olanlar_Oldu</td>\n      <td>Zafer, a sailor living with his mother Döndü i...</td>\n    </tr>\n    <tr>\n      <th>34884</th>\n      <td>2017</td>\n      <td>Non-Transferable</td>\n      <td>Turkish</td>\n      <td>Brendan Bradley</td>\n      <td>YouTubers Shanna Malcolm, Shira Lazar, Sara Fl...</td>\n      <td>romantic comedy</td>\n      <td>https://en.wikipedia.org/wiki/Non-Transferable...</td>\n      <td>The film centres around a young woman named Am...</td>\n    </tr>\n    <tr>\n      <th>34885</th>\n      <td>2017</td>\n      <td>İstanbul Kırmızısı</td>\n      <td>Turkish</td>\n      <td>Ferzan Özpetek</td>\n      <td>Halit Ergenç, Tuba Büyüküstün, Mehmet Günsür, ...</td>\n      <td>romantic</td>\n      <td>https://en.wikipedia.org/wiki/%C4%B0stanbul_K%...</td>\n      <td>The writer Orhan Şahin returns to İstanbul aft...</td>\n    </tr>\n  </tbody>\n</table>\n<p>34886 rows × 8 columns</p>\n</div>"
     },
     "execution_count": 28,
     "metadata": {},
     "output_type": "execute_result"
    }
   ],
   "source": [
    "# Import data into pandas\n",
    "data_import = pd.read_csv(\"wiki_movies.csv\")\n",
    "data_import\n"
   ]
  },
  {
   "cell_type": "code",
   "execution_count": 29,
   "metadata": {
    "pycharm": {
     "name": "#%%\n"
    }
   },
   "outputs": [
    {
     "data": {
      "text/plain": "       Release Year                            Title Origin/Ethnicity  \\\n5              1903              Alice in Wonderland         American   \n13             1907                     Daniel Boone         American   \n14             1907  How Brown Saw the Baseball Game         American   \n15             1907                     Laughing Gas         American   \n16             1908         The Adventures of Dollie         American   \n...             ...                              ...              ...   \n34881          2014                The Water Diviner          Turkish   \n34882          2017               Çalgı Çengi İkimiz          Turkish   \n34883          2017                     Olanlar Oldu          Turkish   \n34884          2017                 Non-Transferable          Turkish   \n34885          2017               İstanbul Kırmızısı          Turkish   \n\n                                      Director  \\\n5                               Cecil Hepworth   \n13     Wallace McCutcheon and Ediwin S. Porter   \n14                                     Unknown   \n15                        Edwin Stanton Porter   \n16                              D. W. Griffith   \n...                                        ...   \n34881                  Director: Russell Crowe   \n34882                           Selçuk Aydemir   \n34883                              Hakan Algül   \n34884                          Brendan Bradley   \n34885                           Ferzan Özpetek   \n\n                                                    Cast            Genre  \\\n5                                              May Clark          unknown   \n13                     William Craven, Florence Lawrence     biographical   \n14                                               Unknown           comedy   \n15                       Bertha Regustus, Edward Boulden           comedy   \n16                     Arthur V. Johnson, Linda Arvidson            drama   \n...                                                  ...              ...   \n34881  Director: Russell Crowe\\r\\nCast: Russell Crowe...          unknown   \n34882                          Ahmet Kural, Murat Cemcir           comedy   \n34883              Ata Demirer, Tuvana Türkay, Ülkü Duru           comedy   \n34884  YouTubers Shanna Malcolm, Shira Lazar, Sara Fl...  romantic comedy   \n34885  Halit Ergenç, Tuba Büyüküstün, Mehmet Günsür, ...         romantic   \n\n                                               Wiki Page  \\\n5      https://en.wikipedia.org/wiki/Alice_in_Wonderl...   \n13     https://en.wikipedia.org/wiki/Daniel_Boone_(19...   \n14     https://en.wikipedia.org/wiki/How_Brown_Saw_th...   \n15     https://en.wikipedia.org/wiki/Laughing_Gas_(fi...   \n16     https://en.wikipedia.org/wiki/The_Adventures_o...   \n...                                                  ...   \n34881    https://en.wikipedia.org/wiki/The_Water_Diviner   \n34882  https://en.wikipedia.org/wiki/%C3%87alg%C4%B1_...   \n34883         https://en.wikipedia.org/wiki/Olanlar_Oldu   \n34884  https://en.wikipedia.org/wiki/Non-Transferable...   \n34885  https://en.wikipedia.org/wiki/%C4%B0stanbul_K%...   \n\n                                                    Plot  \n5      Alice follows a large white rabbit down a \"Rab...  \n13     Boone's daughter befriends an Indian maiden as...  \n14     Before heading out to a baseball game at a nea...  \n15     The plot is that of a black woman going to the...  \n16     On a beautiful summer day a father and mother ...  \n...                                                  ...  \n34881  The film begins in 1919, just after World War ...  \n34882  Two musicians, Salih and Gürkan, described the...  \n34883  Zafer, a sailor living with his mother Döndü i...  \n34884  The film centres around a young woman named Am...  \n34885  The writer Orhan Şahin returns to İstanbul aft...  \n\n[33464 rows x 8 columns]",
      "text/html": "<div>\n<style scoped>\n    .dataframe tbody tr th:only-of-type {\n        vertical-align: middle;\n    }\n\n    .dataframe tbody tr th {\n        vertical-align: top;\n    }\n\n    .dataframe thead th {\n        text-align: right;\n    }\n</style>\n<table border=\"1\" class=\"dataframe\">\n  <thead>\n    <tr style=\"text-align: right;\">\n      <th></th>\n      <th>Release Year</th>\n      <th>Title</th>\n      <th>Origin/Ethnicity</th>\n      <th>Director</th>\n      <th>Cast</th>\n      <th>Genre</th>\n      <th>Wiki Page</th>\n      <th>Plot</th>\n    </tr>\n  </thead>\n  <tbody>\n    <tr>\n      <th>5</th>\n      <td>1903</td>\n      <td>Alice in Wonderland</td>\n      <td>American</td>\n      <td>Cecil Hepworth</td>\n      <td>May Clark</td>\n      <td>unknown</td>\n      <td>https://en.wikipedia.org/wiki/Alice_in_Wonderl...</td>\n      <td>Alice follows a large white rabbit down a \"Rab...</td>\n    </tr>\n    <tr>\n      <th>13</th>\n      <td>1907</td>\n      <td>Daniel Boone</td>\n      <td>American</td>\n      <td>Wallace McCutcheon and Ediwin S. Porter</td>\n      <td>William Craven, Florence Lawrence</td>\n      <td>biographical</td>\n      <td>https://en.wikipedia.org/wiki/Daniel_Boone_(19...</td>\n      <td>Boone's daughter befriends an Indian maiden as...</td>\n    </tr>\n    <tr>\n      <th>14</th>\n      <td>1907</td>\n      <td>How Brown Saw the Baseball Game</td>\n      <td>American</td>\n      <td>Unknown</td>\n      <td>Unknown</td>\n      <td>comedy</td>\n      <td>https://en.wikipedia.org/wiki/How_Brown_Saw_th...</td>\n      <td>Before heading out to a baseball game at a nea...</td>\n    </tr>\n    <tr>\n      <th>15</th>\n      <td>1907</td>\n      <td>Laughing Gas</td>\n      <td>American</td>\n      <td>Edwin Stanton Porter</td>\n      <td>Bertha Regustus, Edward Boulden</td>\n      <td>comedy</td>\n      <td>https://en.wikipedia.org/wiki/Laughing_Gas_(fi...</td>\n      <td>The plot is that of a black woman going to the...</td>\n    </tr>\n    <tr>\n      <th>16</th>\n      <td>1908</td>\n      <td>The Adventures of Dollie</td>\n      <td>American</td>\n      <td>D. W. Griffith</td>\n      <td>Arthur V. Johnson, Linda Arvidson</td>\n      <td>drama</td>\n      <td>https://en.wikipedia.org/wiki/The_Adventures_o...</td>\n      <td>On a beautiful summer day a father and mother ...</td>\n    </tr>\n    <tr>\n      <th>...</th>\n      <td>...</td>\n      <td>...</td>\n      <td>...</td>\n      <td>...</td>\n      <td>...</td>\n      <td>...</td>\n      <td>...</td>\n      <td>...</td>\n    </tr>\n    <tr>\n      <th>34881</th>\n      <td>2014</td>\n      <td>The Water Diviner</td>\n      <td>Turkish</td>\n      <td>Director: Russell Crowe</td>\n      <td>Director: Russell Crowe\\r\\nCast: Russell Crowe...</td>\n      <td>unknown</td>\n      <td>https://en.wikipedia.org/wiki/The_Water_Diviner</td>\n      <td>The film begins in 1919, just after World War ...</td>\n    </tr>\n    <tr>\n      <th>34882</th>\n      <td>2017</td>\n      <td>Çalgı Çengi İkimiz</td>\n      <td>Turkish</td>\n      <td>Selçuk Aydemir</td>\n      <td>Ahmet Kural, Murat Cemcir</td>\n      <td>comedy</td>\n      <td>https://en.wikipedia.org/wiki/%C3%87alg%C4%B1_...</td>\n      <td>Two musicians, Salih and Gürkan, described the...</td>\n    </tr>\n    <tr>\n      <th>34883</th>\n      <td>2017</td>\n      <td>Olanlar Oldu</td>\n      <td>Turkish</td>\n      <td>Hakan Algül</td>\n      <td>Ata Demirer, Tuvana Türkay, Ülkü Duru</td>\n      <td>comedy</td>\n      <td>https://en.wikipedia.org/wiki/Olanlar_Oldu</td>\n      <td>Zafer, a sailor living with his mother Döndü i...</td>\n    </tr>\n    <tr>\n      <th>34884</th>\n      <td>2017</td>\n      <td>Non-Transferable</td>\n      <td>Turkish</td>\n      <td>Brendan Bradley</td>\n      <td>YouTubers Shanna Malcolm, Shira Lazar, Sara Fl...</td>\n      <td>romantic comedy</td>\n      <td>https://en.wikipedia.org/wiki/Non-Transferable...</td>\n      <td>The film centres around a young woman named Am...</td>\n    </tr>\n    <tr>\n      <th>34885</th>\n      <td>2017</td>\n      <td>İstanbul Kırmızısı</td>\n      <td>Turkish</td>\n      <td>Ferzan Özpetek</td>\n      <td>Halit Ergenç, Tuba Büyüküstün, Mehmet Günsür, ...</td>\n      <td>romantic</td>\n      <td>https://en.wikipedia.org/wiki/%C4%B0stanbul_K%...</td>\n      <td>The writer Orhan Şahin returns to İstanbul aft...</td>\n    </tr>\n  </tbody>\n</table>\n<p>33464 rows × 8 columns</p>\n</div>"
     },
     "execution_count": 29,
     "metadata": {},
     "output_type": "execute_result"
    }
   ],
   "source": [
    "# Drop rows with NaNs\n",
    "data_noNans = data_import.dropna(axis=0, how=\"any\")\n",
    "data_noNans\n"
   ]
  },
  {
   "cell_type": "code",
   "execution_count": 30,
   "metadata": {
    "pycharm": {
     "name": "#%%\n"
    }
   },
   "outputs": [
    {
     "data": {
      "text/plain": "       Release Year                            Title Origin/Ethnicity  \\\n13             1907                     Daniel Boone         American   \n14             1907  How Brown Saw the Baseball Game         American   \n15             1907                     Laughing Gas         American   \n16             1908         The Adventures of Dollie         American   \n17             1908                  The Black Viper         American   \n...             ...                              ...              ...   \n34877          2013                  Particle (film)          Turkish   \n34882          2017               Çalgı Çengi İkimiz          Turkish   \n34883          2017                     Olanlar Oldu          Turkish   \n34884          2017                 Non-Transferable          Turkish   \n34885          2017               İstanbul Kırmızısı          Turkish   \n\n                                      Director  \\\n13     Wallace McCutcheon and Ediwin S. Porter   \n14                                     Unknown   \n15                        Edwin Stanton Porter   \n16                              D. W. Griffith   \n17                              D. W. Griffith   \n...                                        ...   \n34877                            Erdem Tepegöz   \n34882                           Selçuk Aydemir   \n34883                              Hakan Algül   \n34884                          Brendan Bradley   \n34885                           Ferzan Özpetek   \n\n                                                    Cast            Genre  \\\n13                     William Craven, Florence Lawrence     biographical   \n14                                               Unknown           comedy   \n15                       Bertha Regustus, Edward Boulden           comedy   \n16                     Arthur V. Johnson, Linda Arvidson            drama   \n17                                        D. W. Griffith            drama   \n...                                                  ...              ...   \n34877  Jale Arıkan, Rüçhan Caliskur, Özay Fecht, Remz...       drama film   \n34882                          Ahmet Kural, Murat Cemcir           comedy   \n34883              Ata Demirer, Tuvana Türkay, Ülkü Duru           comedy   \n34884  YouTubers Shanna Malcolm, Shira Lazar, Sara Fl...  romantic comedy   \n34885  Halit Ergenç, Tuba Büyüküstün, Mehmet Günsür, ...         romantic   \n\n                                               Wiki Page  \\\n13     https://en.wikipedia.org/wiki/Daniel_Boone_(19...   \n14     https://en.wikipedia.org/wiki/How_Brown_Saw_th...   \n15     https://en.wikipedia.org/wiki/Laughing_Gas_(fi...   \n16     https://en.wikipedia.org/wiki/The_Adventures_o...   \n17         https://en.wikipedia.org/wiki/The_Black_Viper   \n...                                                  ...   \n34877      https://en.wikipedia.org/wiki/Particle_(film)   \n34882  https://en.wikipedia.org/wiki/%C3%87alg%C4%B1_...   \n34883         https://en.wikipedia.org/wiki/Olanlar_Oldu   \n34884  https://en.wikipedia.org/wiki/Non-Transferable...   \n34885  https://en.wikipedia.org/wiki/%C4%B0stanbul_K%...   \n\n                                                    Plot  \n13     Boone's daughter befriends an Indian maiden as...  \n14     Before heading out to a baseball game at a nea...  \n15     The plot is that of a black woman going to the...  \n16     On a beautiful summer day a father and mother ...  \n17     A thug accosts a girl as she leaves her workpl...  \n...                                                  ...  \n34877  Zeynep lost her job at weaving factory, and he...  \n34882  Two musicians, Salih and Gürkan, described the...  \n34883  Zafer, a sailor living with his mother Döndü i...  \n34884  The film centres around a young woman named Am...  \n34885  The writer Orhan Şahin returns to İstanbul aft...  \n\n[28064 rows x 8 columns]",
      "text/html": "<div>\n<style scoped>\n    .dataframe tbody tr th:only-of-type {\n        vertical-align: middle;\n    }\n\n    .dataframe tbody tr th {\n        vertical-align: top;\n    }\n\n    .dataframe thead th {\n        text-align: right;\n    }\n</style>\n<table border=\"1\" class=\"dataframe\">\n  <thead>\n    <tr style=\"text-align: right;\">\n      <th></th>\n      <th>Release Year</th>\n      <th>Title</th>\n      <th>Origin/Ethnicity</th>\n      <th>Director</th>\n      <th>Cast</th>\n      <th>Genre</th>\n      <th>Wiki Page</th>\n      <th>Plot</th>\n    </tr>\n  </thead>\n  <tbody>\n    <tr>\n      <th>13</th>\n      <td>1907</td>\n      <td>Daniel Boone</td>\n      <td>American</td>\n      <td>Wallace McCutcheon and Ediwin S. Porter</td>\n      <td>William Craven, Florence Lawrence</td>\n      <td>biographical</td>\n      <td>https://en.wikipedia.org/wiki/Daniel_Boone_(19...</td>\n      <td>Boone's daughter befriends an Indian maiden as...</td>\n    </tr>\n    <tr>\n      <th>14</th>\n      <td>1907</td>\n      <td>How Brown Saw the Baseball Game</td>\n      <td>American</td>\n      <td>Unknown</td>\n      <td>Unknown</td>\n      <td>comedy</td>\n      <td>https://en.wikipedia.org/wiki/How_Brown_Saw_th...</td>\n      <td>Before heading out to a baseball game at a nea...</td>\n    </tr>\n    <tr>\n      <th>15</th>\n      <td>1907</td>\n      <td>Laughing Gas</td>\n      <td>American</td>\n      <td>Edwin Stanton Porter</td>\n      <td>Bertha Regustus, Edward Boulden</td>\n      <td>comedy</td>\n      <td>https://en.wikipedia.org/wiki/Laughing_Gas_(fi...</td>\n      <td>The plot is that of a black woman going to the...</td>\n    </tr>\n    <tr>\n      <th>16</th>\n      <td>1908</td>\n      <td>The Adventures of Dollie</td>\n      <td>American</td>\n      <td>D. W. Griffith</td>\n      <td>Arthur V. Johnson, Linda Arvidson</td>\n      <td>drama</td>\n      <td>https://en.wikipedia.org/wiki/The_Adventures_o...</td>\n      <td>On a beautiful summer day a father and mother ...</td>\n    </tr>\n    <tr>\n      <th>17</th>\n      <td>1908</td>\n      <td>The Black Viper</td>\n      <td>American</td>\n      <td>D. W. Griffith</td>\n      <td>D. W. Griffith</td>\n      <td>drama</td>\n      <td>https://en.wikipedia.org/wiki/The_Black_Viper</td>\n      <td>A thug accosts a girl as she leaves her workpl...</td>\n    </tr>\n    <tr>\n      <th>...</th>\n      <td>...</td>\n      <td>...</td>\n      <td>...</td>\n      <td>...</td>\n      <td>...</td>\n      <td>...</td>\n      <td>...</td>\n      <td>...</td>\n    </tr>\n    <tr>\n      <th>34877</th>\n      <td>2013</td>\n      <td>Particle (film)</td>\n      <td>Turkish</td>\n      <td>Erdem Tepegöz</td>\n      <td>Jale Arıkan, Rüçhan Caliskur, Özay Fecht, Remz...</td>\n      <td>drama film</td>\n      <td>https://en.wikipedia.org/wiki/Particle_(film)</td>\n      <td>Zeynep lost her job at weaving factory, and he...</td>\n    </tr>\n    <tr>\n      <th>34882</th>\n      <td>2017</td>\n      <td>Çalgı Çengi İkimiz</td>\n      <td>Turkish</td>\n      <td>Selçuk Aydemir</td>\n      <td>Ahmet Kural, Murat Cemcir</td>\n      <td>comedy</td>\n      <td>https://en.wikipedia.org/wiki/%C3%87alg%C4%B1_...</td>\n      <td>Two musicians, Salih and Gürkan, described the...</td>\n    </tr>\n    <tr>\n      <th>34883</th>\n      <td>2017</td>\n      <td>Olanlar Oldu</td>\n      <td>Turkish</td>\n      <td>Hakan Algül</td>\n      <td>Ata Demirer, Tuvana Türkay, Ülkü Duru</td>\n      <td>comedy</td>\n      <td>https://en.wikipedia.org/wiki/Olanlar_Oldu</td>\n      <td>Zafer, a sailor living with his mother Döndü i...</td>\n    </tr>\n    <tr>\n      <th>34884</th>\n      <td>2017</td>\n      <td>Non-Transferable</td>\n      <td>Turkish</td>\n      <td>Brendan Bradley</td>\n      <td>YouTubers Shanna Malcolm, Shira Lazar, Sara Fl...</td>\n      <td>romantic comedy</td>\n      <td>https://en.wikipedia.org/wiki/Non-Transferable...</td>\n      <td>The film centres around a young woman named Am...</td>\n    </tr>\n    <tr>\n      <th>34885</th>\n      <td>2017</td>\n      <td>İstanbul Kırmızısı</td>\n      <td>Turkish</td>\n      <td>Ferzan Özpetek</td>\n      <td>Halit Ergenç, Tuba Büyüküstün, Mehmet Günsür, ...</td>\n      <td>romantic</td>\n      <td>https://en.wikipedia.org/wiki/%C4%B0stanbul_K%...</td>\n      <td>The writer Orhan Şahin returns to İstanbul aft...</td>\n    </tr>\n  </tbody>\n</table>\n<p>28064 rows × 8 columns</p>\n</div>"
     },
     "execution_count": 30,
     "metadata": {},
     "output_type": "execute_result"
    }
   ],
   "source": [
    "# Drop rows with unknown genres\n",
    "data_noUnknown = data_noNans.loc[data_noNans[\"Genre\"] != \"unknown\"]\n",
    "data_noUnknown\n"
   ]
  },
  {
   "cell_type": "code",
   "execution_count": 31,
   "metadata": {
    "pycharm": {
     "name": "#%%\n"
    }
   },
   "outputs": [
    {
     "name": "stdout",
     "output_type": "stream",
     "text": [
      "<class 'pandas.core.frame.DataFrame'>\n"
     ]
    }
   ],
   "source": [
    "# Keep data with only 1 genre\n",
    "print(type(data_noUnknown))\n",
    "indexes = []\n",
    "\n",
    "for index, row in data_noUnknown.iterrows():\n",
    "    if len(row[\"Genre\"].split()) > 1 or len(row[\"Genre\"].split(\",\")) > 1 \\\n",
    "            or len(row[\"Genre\"].split(\"/\")) > 1\\\n",
    "            or len(row[\"Genre\"].split(\"-\")) > 1:\n",
    "        indexes.append(index)\n",
    "data_cleaned = data_noUnknown.drop(axis=0, index=indexes)"
   ]
  },
  {
   "cell_type": "code",
   "execution_count": 32,
   "outputs": [
    {
     "data": {
      "text/plain": "       Release Year                            Title Origin/Ethnicity  \\\n13             1907                     Daniel Boone         American   \n14             1907  How Brown Saw the Baseball Game         American   \n15             1907                     Laughing Gas         American   \n16             1908         The Adventures of Dollie         American   \n17             1908                  The Black Viper         American   \n...             ...                              ...              ...   \n34875          2011     Once Upon a Time in Anatolia          Turkish   \n34876          2013                            Selam          Turkish   \n34882          2017               Çalgı Çengi İkimiz          Turkish   \n34883          2017                     Olanlar Oldu          Turkish   \n34885          2017               İstanbul Kırmızısı          Turkish   \n\n                                      Director  \\\n13     Wallace McCutcheon and Ediwin S. Porter   \n14                                     Unknown   \n15                        Edwin Stanton Porter   \n16                              D. W. Griffith   \n17                              D. W. Griffith   \n...                                        ...   \n34875                        Nuri Bilge Ceylan   \n34876                         Levent Demirkale   \n34882                           Selçuk Aydemir   \n34883                              Hakan Algül   \n34885                           Ferzan Özpetek   \n\n                                                    Cast         Genre  \\\n13                     William Craven, Florence Lawrence  biographical   \n14                                               Unknown        comedy   \n15                       Bertha Regustus, Edward Boulden        comedy   \n16                     Arthur V. Johnson, Linda Arvidson         drama   \n17                                        D. W. Griffith         drama   \n...                                                  ...           ...   \n34875        Yılmaz Erdoğan, Taner Birsel & Ufuk Karaali         drama   \n34876  Bucin Abdullah, Selma Alispahic, Tina Cvitanov...         drama   \n34882                          Ahmet Kural, Murat Cemcir        comedy   \n34883              Ata Demirer, Tuvana Türkay, Ülkü Duru        comedy   \n34885  Halit Ergenç, Tuba Büyüküstün, Mehmet Günsür, ...      romantic   \n\n                                               Wiki Page  \\\n13     https://en.wikipedia.org/wiki/Daniel_Boone_(19...   \n14     https://en.wikipedia.org/wiki/How_Brown_Saw_th...   \n15     https://en.wikipedia.org/wiki/Laughing_Gas_(fi...   \n16     https://en.wikipedia.org/wiki/The_Adventures_o...   \n17         https://en.wikipedia.org/wiki/The_Black_Viper   \n...                                                  ...   \n34875  https://en.wikipedia.org/wiki/Once_Upon_a_Time...   \n34876         https://en.wikipedia.org/wiki/Selam_(film)   \n34882  https://en.wikipedia.org/wiki/%C3%87alg%C4%B1_...   \n34883         https://en.wikipedia.org/wiki/Olanlar_Oldu   \n34885  https://en.wikipedia.org/wiki/%C4%B0stanbul_K%...   \n\n                                                    Plot  \n13     Boone's daughter befriends an Indian maiden as...  \n14     Before heading out to a baseball game at a nea...  \n15     The plot is that of a black woman going to the...  \n16     On a beautiful summer day a father and mother ...  \n17     A thug accosts a girl as she leaves her workpl...  \n...                                                  ...  \n34875  Through the night, three cars carry a small gr...  \n34876  The film opens with a Senegalese boy named Kha...  \n34882  Two musicians, Salih and Gürkan, described the...  \n34883  Zafer, a sailor living with his mother Döndü i...  \n34885  The writer Orhan Şahin returns to İstanbul aft...  \n\n[19399 rows x 8 columns]",
      "text/html": "<div>\n<style scoped>\n    .dataframe tbody tr th:only-of-type {\n        vertical-align: middle;\n    }\n\n    .dataframe tbody tr th {\n        vertical-align: top;\n    }\n\n    .dataframe thead th {\n        text-align: right;\n    }\n</style>\n<table border=\"1\" class=\"dataframe\">\n  <thead>\n    <tr style=\"text-align: right;\">\n      <th></th>\n      <th>Release Year</th>\n      <th>Title</th>\n      <th>Origin/Ethnicity</th>\n      <th>Director</th>\n      <th>Cast</th>\n      <th>Genre</th>\n      <th>Wiki Page</th>\n      <th>Plot</th>\n    </tr>\n  </thead>\n  <tbody>\n    <tr>\n      <th>13</th>\n      <td>1907</td>\n      <td>Daniel Boone</td>\n      <td>American</td>\n      <td>Wallace McCutcheon and Ediwin S. Porter</td>\n      <td>William Craven, Florence Lawrence</td>\n      <td>biographical</td>\n      <td>https://en.wikipedia.org/wiki/Daniel_Boone_(19...</td>\n      <td>Boone's daughter befriends an Indian maiden as...</td>\n    </tr>\n    <tr>\n      <th>14</th>\n      <td>1907</td>\n      <td>How Brown Saw the Baseball Game</td>\n      <td>American</td>\n      <td>Unknown</td>\n      <td>Unknown</td>\n      <td>comedy</td>\n      <td>https://en.wikipedia.org/wiki/How_Brown_Saw_th...</td>\n      <td>Before heading out to a baseball game at a nea...</td>\n    </tr>\n    <tr>\n      <th>15</th>\n      <td>1907</td>\n      <td>Laughing Gas</td>\n      <td>American</td>\n      <td>Edwin Stanton Porter</td>\n      <td>Bertha Regustus, Edward Boulden</td>\n      <td>comedy</td>\n      <td>https://en.wikipedia.org/wiki/Laughing_Gas_(fi...</td>\n      <td>The plot is that of a black woman going to the...</td>\n    </tr>\n    <tr>\n      <th>16</th>\n      <td>1908</td>\n      <td>The Adventures of Dollie</td>\n      <td>American</td>\n      <td>D. W. Griffith</td>\n      <td>Arthur V. Johnson, Linda Arvidson</td>\n      <td>drama</td>\n      <td>https://en.wikipedia.org/wiki/The_Adventures_o...</td>\n      <td>On a beautiful summer day a father and mother ...</td>\n    </tr>\n    <tr>\n      <th>17</th>\n      <td>1908</td>\n      <td>The Black Viper</td>\n      <td>American</td>\n      <td>D. W. Griffith</td>\n      <td>D. W. Griffith</td>\n      <td>drama</td>\n      <td>https://en.wikipedia.org/wiki/The_Black_Viper</td>\n      <td>A thug accosts a girl as she leaves her workpl...</td>\n    </tr>\n    <tr>\n      <th>...</th>\n      <td>...</td>\n      <td>...</td>\n      <td>...</td>\n      <td>...</td>\n      <td>...</td>\n      <td>...</td>\n      <td>...</td>\n      <td>...</td>\n    </tr>\n    <tr>\n      <th>34875</th>\n      <td>2011</td>\n      <td>Once Upon a Time in Anatolia</td>\n      <td>Turkish</td>\n      <td>Nuri Bilge Ceylan</td>\n      <td>Yılmaz Erdoğan, Taner Birsel &amp; Ufuk Karaali</td>\n      <td>drama</td>\n      <td>https://en.wikipedia.org/wiki/Once_Upon_a_Time...</td>\n      <td>Through the night, three cars carry a small gr...</td>\n    </tr>\n    <tr>\n      <th>34876</th>\n      <td>2013</td>\n      <td>Selam</td>\n      <td>Turkish</td>\n      <td>Levent Demirkale</td>\n      <td>Bucin Abdullah, Selma Alispahic, Tina Cvitanov...</td>\n      <td>drama</td>\n      <td>https://en.wikipedia.org/wiki/Selam_(film)</td>\n      <td>The film opens with a Senegalese boy named Kha...</td>\n    </tr>\n    <tr>\n      <th>34882</th>\n      <td>2017</td>\n      <td>Çalgı Çengi İkimiz</td>\n      <td>Turkish</td>\n      <td>Selçuk Aydemir</td>\n      <td>Ahmet Kural, Murat Cemcir</td>\n      <td>comedy</td>\n      <td>https://en.wikipedia.org/wiki/%C3%87alg%C4%B1_...</td>\n      <td>Two musicians, Salih and Gürkan, described the...</td>\n    </tr>\n    <tr>\n      <th>34883</th>\n      <td>2017</td>\n      <td>Olanlar Oldu</td>\n      <td>Turkish</td>\n      <td>Hakan Algül</td>\n      <td>Ata Demirer, Tuvana Türkay, Ülkü Duru</td>\n      <td>comedy</td>\n      <td>https://en.wikipedia.org/wiki/Olanlar_Oldu</td>\n      <td>Zafer, a sailor living with his mother Döndü i...</td>\n    </tr>\n    <tr>\n      <th>34885</th>\n      <td>2017</td>\n      <td>İstanbul Kırmızısı</td>\n      <td>Turkish</td>\n      <td>Ferzan Özpetek</td>\n      <td>Halit Ergenç, Tuba Büyüküstün, Mehmet Günsür, ...</td>\n      <td>romantic</td>\n      <td>https://en.wikipedia.org/wiki/%C4%B0stanbul_K%...</td>\n      <td>The writer Orhan Şahin returns to İstanbul aft...</td>\n    </tr>\n  </tbody>\n</table>\n<p>19399 rows × 8 columns</p>\n</div>"
     },
     "execution_count": 32,
     "metadata": {},
     "output_type": "execute_result"
    }
   ],
   "source": [
    "data_cleaned"
   ],
   "metadata": {
    "collapsed": false,
    "pycharm": {
     "name": "#%%\n"
    }
   }
  },
  {
   "cell_type": "code",
   "execution_count": 33,
   "outputs": [
    {
     "name": "stdout",
     "output_type": "stream",
     "text": [
      "We have 144 genres left in the dataset\n",
      "\n",
      "Top 20 most frequent genres:\n",
      "drama 5841\n",
      "comedy 4347\n",
      "horror 1124\n",
      "action 1087\n",
      "thriller 955\n",
      "romance 918\n",
      "western 864\n",
      "crime 565\n",
      "adventure 524\n",
      "musical 465\n",
      "mystery 309\n",
      "war 270\n",
      "animation 225\n",
      "family 212\n",
      "fantasy 193\n",
      "biography 134\n",
      "animated 131\n",
      "suspense 104\n",
      "social 82\n",
      "historical 74\n",
      "serial 69\n"
     ]
    }
   ],
   "source": [
    "#Print what current genres we have and their frequency\n",
    "genres = set()\n",
    "\n",
    "genres_dict = {}\n",
    "\n",
    "for index, row in data_cleaned.iterrows():\n",
    "    genres.add(row[\"Genre\"])\n",
    "    if row[\"Genre\"] in genres_dict:\n",
    "        genres_dict[row[\"Genre\"]] += 1\n",
    "    else:\n",
    "        genres_dict[row[\"Genre\"]] = 1\n",
    "\n",
    "print(\"We have \" + str(len(genres)) + \" genres left in the dataset\\n\")\n",
    "\n",
    "count = 0\n",
    "print(\"Top 20 most frequent genres:\")\n",
    "for w in sorted(genres_dict, key=genres_dict.get, reverse=True):\n",
    "    print(w, genres_dict[w])\n",
    "    if count == 20:\n",
    "        break\n",
    "    count += 1"
   ],
   "metadata": {
    "collapsed": false,
    "pycharm": {
     "name": "#%%\n"
    }
   }
  },
  {
   "cell_type": "code",
   "execution_count": 34,
   "outputs": [],
   "source": [
    "#Compute and add the frequency to all entries\n",
    "column_values = []\n",
    "index = 1\n",
    "\n",
    "for i in data_cleaned[\"Genre\"]:\n",
    "    if i in genres_dict:\n",
    "        column_values.append(genres_dict[i])"
   ],
   "metadata": {
    "collapsed": false,
    "pycharm": {
     "name": "#%%\n"
    }
   }
  },
  {
   "cell_type": "code",
   "execution_count": 35,
   "outputs": [],
   "source": [
    "extra_column = data_cleaned\n",
    "extra_column[\"Freq\"] = column_values"
   ],
   "metadata": {
    "collapsed": false,
    "pycharm": {
     "name": "#%%\n"
    }
   }
  },
  {
   "cell_type": "code",
   "execution_count": 36,
   "outputs": [],
   "source": [
    "# Sort by frequency\n",
    "sorted_data = extra_column.sort_values('Freq',ascending = False)"
   ],
   "metadata": {
    "collapsed": false,
    "pycharm": {
     "name": "#%%\n"
    }
   }
  },
  {
   "cell_type": "code",
   "execution_count": 37,
   "outputs": [
    {
     "data": {
      "text/plain": "       Release Year                                 Title Origin/Ethnicity  \\\n12929          1997                             The Boxer         American   \n12890          1997                          12 Angry Men         American   \n12880          1996                  The Watermelon Woman         American   \n12882          1996                          White Squall         American   \n12884          1996  William Shakespeare's Romeo + Juliet         American   \n...             ...                                   ...              ...   \n3043           1941                    Elmer's Pet Rabbit         American   \n3004           1941                    The Blood of Jesus         American   \n17652          1995                              Napoleon       Australian   \n27110          2017                        Haseena Parkar        Bollywood   \n31105          2012                                Vettai            Tamil   \n\n                Director                                               Cast  \\\n12929       Jim Sheridan                     Daniel Day-Lewis, Emily Watson   \n12890   William Friedkin  Jack Lemmon, George C. Scott, James Gandolfini...   \n12880       Cheryl Dunye     Cheryl Dunye, Guinevere Turner, Valarie Walker   \n12882       Ridley Scott           Jeff Bridges, Ryan Phillippe, Scott Wolf   \n12884       Baz Luhrmann  Leonardo DiCaprio, Claire Danes, John Leguizam...   \n...                  ...                                                ...   \n3043         Chuck Jones                             Elmer Fudd, Bugs Bunny   \n3004    Spencer Williams                 Cathryn Caviness, Spencer Williams   \n17652  Mario Andreacchio                          Jamie Croft, Philip Quast   \n27110     Apoorva Lakhia  Shraddha Kapoor, Sharman Joshi, Siddhanth Kapo...   \n31105      N. Linguswamy       Arya, R. Madhavan, Sameera Reddy, Amala Paul   \n\n               Genre                                          Wiki Page  \\\n12929          drama  https://en.wikipedia.org/wiki/The_Boxer_(1997_...   \n12890          drama  https://en.wikipedia.org/wiki/12_Angry_Men_(19...   \n12880          drama  https://en.wikipedia.org/wiki/The_Watermelon_W...   \n12882          drama  https://en.wikipedia.org/wiki/White_Squall_(film)   \n12884          drama  https://en.wikipedia.org/wiki/William_Shakespe...   \n...              ...                                                ...   \n3043         cartoon  https://en.wikipedia.org/wiki/Elmer%27s_Pet_Ra...   \n3004            race   https://en.wikipedia.org/wiki/The_Blood_of_Jesus   \n17652     children's  https://en.wikipedia.org/wiki/Napoleon_(1995_f...   \n27110     biographic       https://en.wikipedia.org/wiki/Haseena_Parkar   \n31105  action—masala               https://en.wikipedia.org/wiki/Vettai   \n\n                                                    Plot  Freq  \n12929  Former Irish pugilist and Provisional IRA memb...  5841  \n12890  When the final closing arguments in a murder t...  5841  \n12880  Cheryl is a young, African American lesbian wh...  5841  \n12882  The film is based on the fate of the brigantin...  5841  \n12884  In Verona Beach, the Capulets and the Montague...  5841  \n...                                                  ...   ...  \n3043   Elmer buys Bugs Bunny in a pet shop (for 98¢)....     1  \n3004   In a small rural village with an African Ameri...     1  \n17652  In Sydney, Australia, a puppy named Muffin is ...     1  \n27110  Haseena Parkar (Shraddha Kapoor) lives with he...     1  \n31105  Thirumurthy and Gurumurthy are two brothers in...     1  \n\n[19399 rows x 9 columns]",
      "text/html": "<div>\n<style scoped>\n    .dataframe tbody tr th:only-of-type {\n        vertical-align: middle;\n    }\n\n    .dataframe tbody tr th {\n        vertical-align: top;\n    }\n\n    .dataframe thead th {\n        text-align: right;\n    }\n</style>\n<table border=\"1\" class=\"dataframe\">\n  <thead>\n    <tr style=\"text-align: right;\">\n      <th></th>\n      <th>Release Year</th>\n      <th>Title</th>\n      <th>Origin/Ethnicity</th>\n      <th>Director</th>\n      <th>Cast</th>\n      <th>Genre</th>\n      <th>Wiki Page</th>\n      <th>Plot</th>\n      <th>Freq</th>\n    </tr>\n  </thead>\n  <tbody>\n    <tr>\n      <th>12929</th>\n      <td>1997</td>\n      <td>The Boxer</td>\n      <td>American</td>\n      <td>Jim Sheridan</td>\n      <td>Daniel Day-Lewis, Emily Watson</td>\n      <td>drama</td>\n      <td>https://en.wikipedia.org/wiki/The_Boxer_(1997_...</td>\n      <td>Former Irish pugilist and Provisional IRA memb...</td>\n      <td>5841</td>\n    </tr>\n    <tr>\n      <th>12890</th>\n      <td>1997</td>\n      <td>12 Angry Men</td>\n      <td>American</td>\n      <td>William Friedkin</td>\n      <td>Jack Lemmon, George C. Scott, James Gandolfini...</td>\n      <td>drama</td>\n      <td>https://en.wikipedia.org/wiki/12_Angry_Men_(19...</td>\n      <td>When the final closing arguments in a murder t...</td>\n      <td>5841</td>\n    </tr>\n    <tr>\n      <th>12880</th>\n      <td>1996</td>\n      <td>The Watermelon Woman</td>\n      <td>American</td>\n      <td>Cheryl Dunye</td>\n      <td>Cheryl Dunye, Guinevere Turner, Valarie Walker</td>\n      <td>drama</td>\n      <td>https://en.wikipedia.org/wiki/The_Watermelon_W...</td>\n      <td>Cheryl is a young, African American lesbian wh...</td>\n      <td>5841</td>\n    </tr>\n    <tr>\n      <th>12882</th>\n      <td>1996</td>\n      <td>White Squall</td>\n      <td>American</td>\n      <td>Ridley Scott</td>\n      <td>Jeff Bridges, Ryan Phillippe, Scott Wolf</td>\n      <td>drama</td>\n      <td>https://en.wikipedia.org/wiki/White_Squall_(film)</td>\n      <td>The film is based on the fate of the brigantin...</td>\n      <td>5841</td>\n    </tr>\n    <tr>\n      <th>12884</th>\n      <td>1996</td>\n      <td>William Shakespeare's Romeo + Juliet</td>\n      <td>American</td>\n      <td>Baz Luhrmann</td>\n      <td>Leonardo DiCaprio, Claire Danes, John Leguizam...</td>\n      <td>drama</td>\n      <td>https://en.wikipedia.org/wiki/William_Shakespe...</td>\n      <td>In Verona Beach, the Capulets and the Montague...</td>\n      <td>5841</td>\n    </tr>\n    <tr>\n      <th>...</th>\n      <td>...</td>\n      <td>...</td>\n      <td>...</td>\n      <td>...</td>\n      <td>...</td>\n      <td>...</td>\n      <td>...</td>\n      <td>...</td>\n      <td>...</td>\n    </tr>\n    <tr>\n      <th>3043</th>\n      <td>1941</td>\n      <td>Elmer's Pet Rabbit</td>\n      <td>American</td>\n      <td>Chuck Jones</td>\n      <td>Elmer Fudd, Bugs Bunny</td>\n      <td>cartoon</td>\n      <td>https://en.wikipedia.org/wiki/Elmer%27s_Pet_Ra...</td>\n      <td>Elmer buys Bugs Bunny in a pet shop (for 98¢)....</td>\n      <td>1</td>\n    </tr>\n    <tr>\n      <th>3004</th>\n      <td>1941</td>\n      <td>The Blood of Jesus</td>\n      <td>American</td>\n      <td>Spencer Williams</td>\n      <td>Cathryn Caviness, Spencer Williams</td>\n      <td>race</td>\n      <td>https://en.wikipedia.org/wiki/The_Blood_of_Jesus</td>\n      <td>In a small rural village with an African Ameri...</td>\n      <td>1</td>\n    </tr>\n    <tr>\n      <th>17652</th>\n      <td>1995</td>\n      <td>Napoleon</td>\n      <td>Australian</td>\n      <td>Mario Andreacchio</td>\n      <td>Jamie Croft, Philip Quast</td>\n      <td>children's</td>\n      <td>https://en.wikipedia.org/wiki/Napoleon_(1995_f...</td>\n      <td>In Sydney, Australia, a puppy named Muffin is ...</td>\n      <td>1</td>\n    </tr>\n    <tr>\n      <th>27110</th>\n      <td>2017</td>\n      <td>Haseena Parkar</td>\n      <td>Bollywood</td>\n      <td>Apoorva Lakhia</td>\n      <td>Shraddha Kapoor, Sharman Joshi, Siddhanth Kapo...</td>\n      <td>biographic</td>\n      <td>https://en.wikipedia.org/wiki/Haseena_Parkar</td>\n      <td>Haseena Parkar (Shraddha Kapoor) lives with he...</td>\n      <td>1</td>\n    </tr>\n    <tr>\n      <th>31105</th>\n      <td>2012</td>\n      <td>Vettai</td>\n      <td>Tamil</td>\n      <td>N. Linguswamy</td>\n      <td>Arya, R. Madhavan, Sameera Reddy, Amala Paul</td>\n      <td>action—masala</td>\n      <td>https://en.wikipedia.org/wiki/Vettai</td>\n      <td>Thirumurthy and Gurumurthy are two brothers in...</td>\n      <td>1</td>\n    </tr>\n  </tbody>\n</table>\n<p>19399 rows × 9 columns</p>\n</div>"
     },
     "execution_count": 37,
     "metadata": {},
     "output_type": "execute_result"
    }
   ],
   "source": [
    "sorted_data"
   ],
   "metadata": {
    "collapsed": false,
    "pycharm": {
     "name": "#%%\n"
    }
   }
  },
  {
   "cell_type": "code",
   "execution_count": 38,
   "outputs": [],
   "source": [
    "# Manually index the data per Genre\n",
    "current = \"drama\"\n",
    "index_array = []\n",
    "\n",
    "for i in sorted_data[\"Genre\"]:\n",
    "    if i == current:\n",
    "        index_array.append(index)\n",
    "        index += 1\n",
    "    else:\n",
    "        index = 1\n",
    "        current = i\n",
    "        index_array.append(index)\n",
    "        index += 1\n",
    "\n",
    "sorted_data[\"Index\"] = index_array"
   ],
   "metadata": {
    "collapsed": false,
    "pycharm": {
     "name": "#%%\n"
    }
   }
  },
  {
   "cell_type": "code",
   "execution_count": 39,
   "outputs": [
    {
     "data": {
      "text/plain": "       Release Year                                 Title Origin/Ethnicity  \\\n12929          1997                             The Boxer         American   \n12890          1997                          12 Angry Men         American   \n12880          1996                  The Watermelon Woman         American   \n12882          1996                          White Squall         American   \n12884          1996  William Shakespeare's Romeo + Juliet         American   \n...             ...                                   ...              ...   \n3043           1941                    Elmer's Pet Rabbit         American   \n3004           1941                    The Blood of Jesus         American   \n17652          1995                              Napoleon       Australian   \n27110          2017                        Haseena Parkar        Bollywood   \n31105          2012                                Vettai            Tamil   \n\n                Director                                               Cast  \\\n12929       Jim Sheridan                     Daniel Day-Lewis, Emily Watson   \n12890   William Friedkin  Jack Lemmon, George C. Scott, James Gandolfini...   \n12880       Cheryl Dunye     Cheryl Dunye, Guinevere Turner, Valarie Walker   \n12882       Ridley Scott           Jeff Bridges, Ryan Phillippe, Scott Wolf   \n12884       Baz Luhrmann  Leonardo DiCaprio, Claire Danes, John Leguizam...   \n...                  ...                                                ...   \n3043         Chuck Jones                             Elmer Fudd, Bugs Bunny   \n3004    Spencer Williams                 Cathryn Caviness, Spencer Williams   \n17652  Mario Andreacchio                          Jamie Croft, Philip Quast   \n27110     Apoorva Lakhia  Shraddha Kapoor, Sharman Joshi, Siddhanth Kapo...   \n31105      N. Linguswamy       Arya, R. Madhavan, Sameera Reddy, Amala Paul   \n\n               Genre                                          Wiki Page  \\\n12929          drama  https://en.wikipedia.org/wiki/The_Boxer_(1997_...   \n12890          drama  https://en.wikipedia.org/wiki/12_Angry_Men_(19...   \n12880          drama  https://en.wikipedia.org/wiki/The_Watermelon_W...   \n12882          drama  https://en.wikipedia.org/wiki/White_Squall_(film)   \n12884          drama  https://en.wikipedia.org/wiki/William_Shakespe...   \n...              ...                                                ...   \n3043         cartoon  https://en.wikipedia.org/wiki/Elmer%27s_Pet_Ra...   \n3004            race   https://en.wikipedia.org/wiki/The_Blood_of_Jesus   \n17652     children's  https://en.wikipedia.org/wiki/Napoleon_(1995_f...   \n27110     biographic       https://en.wikipedia.org/wiki/Haseena_Parkar   \n31105  action—masala               https://en.wikipedia.org/wiki/Vettai   \n\n                                                    Plot  Freq  Index  \n12929  Former Irish pugilist and Provisional IRA memb...  5841      1  \n12890  When the final closing arguments in a murder t...  5841      2  \n12880  Cheryl is a young, African American lesbian wh...  5841      3  \n12882  The film is based on the fate of the brigantin...  5841      4  \n12884  In Verona Beach, the Capulets and the Montague...  5841      5  \n...                                                  ...   ...    ...  \n3043   Elmer buys Bugs Bunny in a pet shop (for 98¢)....     1      1  \n3004   In a small rural village with an African Ameri...     1      1  \n17652  In Sydney, Australia, a puppy named Muffin is ...     1      1  \n27110  Haseena Parkar (Shraddha Kapoor) lives with he...     1      1  \n31105  Thirumurthy and Gurumurthy are two brothers in...     1      1  \n\n[19399 rows x 10 columns]",
      "text/html": "<div>\n<style scoped>\n    .dataframe tbody tr th:only-of-type {\n        vertical-align: middle;\n    }\n\n    .dataframe tbody tr th {\n        vertical-align: top;\n    }\n\n    .dataframe thead th {\n        text-align: right;\n    }\n</style>\n<table border=\"1\" class=\"dataframe\">\n  <thead>\n    <tr style=\"text-align: right;\">\n      <th></th>\n      <th>Release Year</th>\n      <th>Title</th>\n      <th>Origin/Ethnicity</th>\n      <th>Director</th>\n      <th>Cast</th>\n      <th>Genre</th>\n      <th>Wiki Page</th>\n      <th>Plot</th>\n      <th>Freq</th>\n      <th>Index</th>\n    </tr>\n  </thead>\n  <tbody>\n    <tr>\n      <th>12929</th>\n      <td>1997</td>\n      <td>The Boxer</td>\n      <td>American</td>\n      <td>Jim Sheridan</td>\n      <td>Daniel Day-Lewis, Emily Watson</td>\n      <td>drama</td>\n      <td>https://en.wikipedia.org/wiki/The_Boxer_(1997_...</td>\n      <td>Former Irish pugilist and Provisional IRA memb...</td>\n      <td>5841</td>\n      <td>1</td>\n    </tr>\n    <tr>\n      <th>12890</th>\n      <td>1997</td>\n      <td>12 Angry Men</td>\n      <td>American</td>\n      <td>William Friedkin</td>\n      <td>Jack Lemmon, George C. Scott, James Gandolfini...</td>\n      <td>drama</td>\n      <td>https://en.wikipedia.org/wiki/12_Angry_Men_(19...</td>\n      <td>When the final closing arguments in a murder t...</td>\n      <td>5841</td>\n      <td>2</td>\n    </tr>\n    <tr>\n      <th>12880</th>\n      <td>1996</td>\n      <td>The Watermelon Woman</td>\n      <td>American</td>\n      <td>Cheryl Dunye</td>\n      <td>Cheryl Dunye, Guinevere Turner, Valarie Walker</td>\n      <td>drama</td>\n      <td>https://en.wikipedia.org/wiki/The_Watermelon_W...</td>\n      <td>Cheryl is a young, African American lesbian wh...</td>\n      <td>5841</td>\n      <td>3</td>\n    </tr>\n    <tr>\n      <th>12882</th>\n      <td>1996</td>\n      <td>White Squall</td>\n      <td>American</td>\n      <td>Ridley Scott</td>\n      <td>Jeff Bridges, Ryan Phillippe, Scott Wolf</td>\n      <td>drama</td>\n      <td>https://en.wikipedia.org/wiki/White_Squall_(film)</td>\n      <td>The film is based on the fate of the brigantin...</td>\n      <td>5841</td>\n      <td>4</td>\n    </tr>\n    <tr>\n      <th>12884</th>\n      <td>1996</td>\n      <td>William Shakespeare's Romeo + Juliet</td>\n      <td>American</td>\n      <td>Baz Luhrmann</td>\n      <td>Leonardo DiCaprio, Claire Danes, John Leguizam...</td>\n      <td>drama</td>\n      <td>https://en.wikipedia.org/wiki/William_Shakespe...</td>\n      <td>In Verona Beach, the Capulets and the Montague...</td>\n      <td>5841</td>\n      <td>5</td>\n    </tr>\n    <tr>\n      <th>...</th>\n      <td>...</td>\n      <td>...</td>\n      <td>...</td>\n      <td>...</td>\n      <td>...</td>\n      <td>...</td>\n      <td>...</td>\n      <td>...</td>\n      <td>...</td>\n      <td>...</td>\n    </tr>\n    <tr>\n      <th>3043</th>\n      <td>1941</td>\n      <td>Elmer's Pet Rabbit</td>\n      <td>American</td>\n      <td>Chuck Jones</td>\n      <td>Elmer Fudd, Bugs Bunny</td>\n      <td>cartoon</td>\n      <td>https://en.wikipedia.org/wiki/Elmer%27s_Pet_Ra...</td>\n      <td>Elmer buys Bugs Bunny in a pet shop (for 98¢)....</td>\n      <td>1</td>\n      <td>1</td>\n    </tr>\n    <tr>\n      <th>3004</th>\n      <td>1941</td>\n      <td>The Blood of Jesus</td>\n      <td>American</td>\n      <td>Spencer Williams</td>\n      <td>Cathryn Caviness, Spencer Williams</td>\n      <td>race</td>\n      <td>https://en.wikipedia.org/wiki/The_Blood_of_Jesus</td>\n      <td>In a small rural village with an African Ameri...</td>\n      <td>1</td>\n      <td>1</td>\n    </tr>\n    <tr>\n      <th>17652</th>\n      <td>1995</td>\n      <td>Napoleon</td>\n      <td>Australian</td>\n      <td>Mario Andreacchio</td>\n      <td>Jamie Croft, Philip Quast</td>\n      <td>children's</td>\n      <td>https://en.wikipedia.org/wiki/Napoleon_(1995_f...</td>\n      <td>In Sydney, Australia, a puppy named Muffin is ...</td>\n      <td>1</td>\n      <td>1</td>\n    </tr>\n    <tr>\n      <th>27110</th>\n      <td>2017</td>\n      <td>Haseena Parkar</td>\n      <td>Bollywood</td>\n      <td>Apoorva Lakhia</td>\n      <td>Shraddha Kapoor, Sharman Joshi, Siddhanth Kapo...</td>\n      <td>biographic</td>\n      <td>https://en.wikipedia.org/wiki/Haseena_Parkar</td>\n      <td>Haseena Parkar (Shraddha Kapoor) lives with he...</td>\n      <td>1</td>\n      <td>1</td>\n    </tr>\n    <tr>\n      <th>31105</th>\n      <td>2012</td>\n      <td>Vettai</td>\n      <td>Tamil</td>\n      <td>N. Linguswamy</td>\n      <td>Arya, R. Madhavan, Sameera Reddy, Amala Paul</td>\n      <td>action—masala</td>\n      <td>https://en.wikipedia.org/wiki/Vettai</td>\n      <td>Thirumurthy and Gurumurthy are two brothers in...</td>\n      <td>1</td>\n      <td>1</td>\n    </tr>\n  </tbody>\n</table>\n<p>19399 rows × 10 columns</p>\n</div>"
     },
     "execution_count": 39,
     "metadata": {},
     "output_type": "execute_result"
    }
   ],
   "source": [
    "sorted_data"
   ],
   "metadata": {
    "collapsed": false,
    "pycharm": {
     "name": "#%%\n"
    }
   }
  },
  {
   "cell_type": "code",
   "execution_count": 40,
   "outputs": [],
   "source": [
    "# Only pick first 500 entries from the Genres that have a freq higher than 500\n",
    "final_data = sorted_data.loc[(sorted_data[\"Index\"] <= 500) & (sorted_data[\"Freq\"] >= 500)]\n",
    "# Replace all new lines, tabs and commas by a dot so there are no possible errors by the CSV\n",
    "final_data = final_data.replace(to_replace=[r\"\\\\t|\\\\n|\\\\r\", \"\\t|\\n|\\r\"], value=[\"\",\"\"], regex=True)\n",
    "final_data[\"Cast\"] = final_data[\"Cast\"].replace(\",\", \" \", regex=True)\n",
    "final_data = final_data.replace(\",\", \".\", regex=True)"
   ],
   "metadata": {
    "collapsed": false,
    "pycharm": {
     "name": "#%%\n"
    }
   }
  },
  {
   "cell_type": "code",
   "execution_count": 41,
   "outputs": [
    {
     "data": {
      "text/plain": "       Release Year                                 Title Origin/Ethnicity  \\\n12929          1997                             The Boxer         American   \n12890          1997                          12 Angry Men         American   \n12880          1996                  The Watermelon Woman         American   \n12882          1996                          White Squall         American   \n12884          1996  William Shakespeare's Romeo + Juliet         American   \n...             ...                                   ...              ...   \n296            1919                   Soldiers of Fortune         American   \n2336           1938          The Adventures of Tom Sawyer         American   \n4539           1947                  Queen of the Amazons         American   \n3399           1942                  Pierre of the Plains         American   \n281            1919                       Male and Female         American   \n\n                                Director  \\\n12929                       Jim Sheridan   \n12890                   William Friedkin   \n12880                       Cheryl Dunye   \n12882                       Ridley Scott   \n12884                       Baz Luhrmann   \n...                                  ...   \n296                           Allan Dwan   \n2336   Norman Taurog. William A. Wellman   \n4539                       Edward Finney   \n3399                        George Seitz   \n281                     Cecil B. DeMille   \n\n                                                    Cast      Genre  \\\n12929                     Daniel Day-Lewis  Emily Watson      drama   \n12890  Jack Lemmon  George C. Scott  James Gandolfini...      drama   \n12880     Cheryl Dunye  Guinevere Turner  Valarie Walker      drama   \n12882           Jeff Bridges  Ryan Phillippe  Scott Wolf      drama   \n12884  Leonardo DiCaprio  Claire Danes  John Leguizam...      drama   \n...                                                  ...        ...   \n296                           Wallace Beery  Ogden Crane  adventure   \n2336              Tommy Kelly  Jackie Moran  Victor Jory  adventure   \n4539                                    Patricia Morison  adventure   \n3399   Ruth Hussey  Bruce Cabot  Reginald Owen  Evely...  adventure   \n281                       Gloria Swanson  Thomas Meighan  adventure   \n\n                                               Wiki Page  \\\n12929  https://en.wikipedia.org/wiki/The_Boxer_(1997_...   \n12890  https://en.wikipedia.org/wiki/12_Angry_Men_(19...   \n12880  https://en.wikipedia.org/wiki/The_Watermelon_W...   \n12882  https://en.wikipedia.org/wiki/White_Squall_(film)   \n12884  https://en.wikipedia.org/wiki/William_Shakespe...   \n...                                                  ...   \n296    https://en.wikipedia.org/wiki/Soldiers_of_Fort...   \n2336   https://en.wikipedia.org/wiki/The_Adventures_o...   \n4539   https://en.wikipedia.org/wiki/Queen_of_the_Ama...   \n3399   https://en.wikipedia.org/wiki/Pierre_of_the_Pl...   \n281        https://en.wikipedia.org/wiki/Male_and_Female   \n\n                                                    Plot  Freq  Index  \n12929  Former Irish pugilist and Provisional IRA memb...  5841      1  \n12890  When the final closing arguments in a murder t...  5841      2  \n12880  Cheryl is a young. African American lesbian wh...  5841      3  \n12882  The film is based on the fate of the brigantin...  5841      4  \n12884  In Verona Beach. the Capulets and the Montague...  5841      5  \n...                                                  ...   ...    ...  \n296    Robert Clay. a noble America hero of humble me...   524    496  \n2336   The United Artists release includes most of th...   524    497  \n4539   Jean Preston (Patricia Morison) is determined ...   524    498  \n3399   Pierre (Carroll). a singing French-Canadian tr...   524    499  \n281    The film centers on the relationship between L...   524    500  \n\n[4500 rows x 10 columns]",
      "text/html": "<div>\n<style scoped>\n    .dataframe tbody tr th:only-of-type {\n        vertical-align: middle;\n    }\n\n    .dataframe tbody tr th {\n        vertical-align: top;\n    }\n\n    .dataframe thead th {\n        text-align: right;\n    }\n</style>\n<table border=\"1\" class=\"dataframe\">\n  <thead>\n    <tr style=\"text-align: right;\">\n      <th></th>\n      <th>Release Year</th>\n      <th>Title</th>\n      <th>Origin/Ethnicity</th>\n      <th>Director</th>\n      <th>Cast</th>\n      <th>Genre</th>\n      <th>Wiki Page</th>\n      <th>Plot</th>\n      <th>Freq</th>\n      <th>Index</th>\n    </tr>\n  </thead>\n  <tbody>\n    <tr>\n      <th>12929</th>\n      <td>1997</td>\n      <td>The Boxer</td>\n      <td>American</td>\n      <td>Jim Sheridan</td>\n      <td>Daniel Day-Lewis  Emily Watson</td>\n      <td>drama</td>\n      <td>https://en.wikipedia.org/wiki/The_Boxer_(1997_...</td>\n      <td>Former Irish pugilist and Provisional IRA memb...</td>\n      <td>5841</td>\n      <td>1</td>\n    </tr>\n    <tr>\n      <th>12890</th>\n      <td>1997</td>\n      <td>12 Angry Men</td>\n      <td>American</td>\n      <td>William Friedkin</td>\n      <td>Jack Lemmon  George C. Scott  James Gandolfini...</td>\n      <td>drama</td>\n      <td>https://en.wikipedia.org/wiki/12_Angry_Men_(19...</td>\n      <td>When the final closing arguments in a murder t...</td>\n      <td>5841</td>\n      <td>2</td>\n    </tr>\n    <tr>\n      <th>12880</th>\n      <td>1996</td>\n      <td>The Watermelon Woman</td>\n      <td>American</td>\n      <td>Cheryl Dunye</td>\n      <td>Cheryl Dunye  Guinevere Turner  Valarie Walker</td>\n      <td>drama</td>\n      <td>https://en.wikipedia.org/wiki/The_Watermelon_W...</td>\n      <td>Cheryl is a young. African American lesbian wh...</td>\n      <td>5841</td>\n      <td>3</td>\n    </tr>\n    <tr>\n      <th>12882</th>\n      <td>1996</td>\n      <td>White Squall</td>\n      <td>American</td>\n      <td>Ridley Scott</td>\n      <td>Jeff Bridges  Ryan Phillippe  Scott Wolf</td>\n      <td>drama</td>\n      <td>https://en.wikipedia.org/wiki/White_Squall_(film)</td>\n      <td>The film is based on the fate of the brigantin...</td>\n      <td>5841</td>\n      <td>4</td>\n    </tr>\n    <tr>\n      <th>12884</th>\n      <td>1996</td>\n      <td>William Shakespeare's Romeo + Juliet</td>\n      <td>American</td>\n      <td>Baz Luhrmann</td>\n      <td>Leonardo DiCaprio  Claire Danes  John Leguizam...</td>\n      <td>drama</td>\n      <td>https://en.wikipedia.org/wiki/William_Shakespe...</td>\n      <td>In Verona Beach. the Capulets and the Montague...</td>\n      <td>5841</td>\n      <td>5</td>\n    </tr>\n    <tr>\n      <th>...</th>\n      <td>...</td>\n      <td>...</td>\n      <td>...</td>\n      <td>...</td>\n      <td>...</td>\n      <td>...</td>\n      <td>...</td>\n      <td>...</td>\n      <td>...</td>\n      <td>...</td>\n    </tr>\n    <tr>\n      <th>296</th>\n      <td>1919</td>\n      <td>Soldiers of Fortune</td>\n      <td>American</td>\n      <td>Allan Dwan</td>\n      <td>Wallace Beery  Ogden Crane</td>\n      <td>adventure</td>\n      <td>https://en.wikipedia.org/wiki/Soldiers_of_Fort...</td>\n      <td>Robert Clay. a noble America hero of humble me...</td>\n      <td>524</td>\n      <td>496</td>\n    </tr>\n    <tr>\n      <th>2336</th>\n      <td>1938</td>\n      <td>The Adventures of Tom Sawyer</td>\n      <td>American</td>\n      <td>Norman Taurog. William A. Wellman</td>\n      <td>Tommy Kelly  Jackie Moran  Victor Jory</td>\n      <td>adventure</td>\n      <td>https://en.wikipedia.org/wiki/The_Adventures_o...</td>\n      <td>The United Artists release includes most of th...</td>\n      <td>524</td>\n      <td>497</td>\n    </tr>\n    <tr>\n      <th>4539</th>\n      <td>1947</td>\n      <td>Queen of the Amazons</td>\n      <td>American</td>\n      <td>Edward Finney</td>\n      <td>Patricia Morison</td>\n      <td>adventure</td>\n      <td>https://en.wikipedia.org/wiki/Queen_of_the_Ama...</td>\n      <td>Jean Preston (Patricia Morison) is determined ...</td>\n      <td>524</td>\n      <td>498</td>\n    </tr>\n    <tr>\n      <th>3399</th>\n      <td>1942</td>\n      <td>Pierre of the Plains</td>\n      <td>American</td>\n      <td>George Seitz</td>\n      <td>Ruth Hussey  Bruce Cabot  Reginald Owen  Evely...</td>\n      <td>adventure</td>\n      <td>https://en.wikipedia.org/wiki/Pierre_of_the_Pl...</td>\n      <td>Pierre (Carroll). a singing French-Canadian tr...</td>\n      <td>524</td>\n      <td>499</td>\n    </tr>\n    <tr>\n      <th>281</th>\n      <td>1919</td>\n      <td>Male and Female</td>\n      <td>American</td>\n      <td>Cecil B. DeMille</td>\n      <td>Gloria Swanson  Thomas Meighan</td>\n      <td>adventure</td>\n      <td>https://en.wikipedia.org/wiki/Male_and_Female</td>\n      <td>The film centers on the relationship between L...</td>\n      <td>524</td>\n      <td>500</td>\n    </tr>\n  </tbody>\n</table>\n<p>4500 rows × 10 columns</p>\n</div>"
     },
     "execution_count": 41,
     "metadata": {},
     "output_type": "execute_result"
    }
   ],
   "source": [
    "final_data"
   ],
   "metadata": {
    "collapsed": false,
    "pycharm": {
     "name": "#%%\n"
    }
   }
  },
  {
   "cell_type": "code",
   "execution_count": 42,
   "outputs": [],
   "source": [
    "# Drop the columsn that we used for cleaning\n",
    "final_data = final_data.drop(columns=[\"Freq\", \"Index\"])"
   ],
   "metadata": {
    "collapsed": false,
    "pycharm": {
     "name": "#%%\n"
    }
   }
  },
  {
   "cell_type": "code",
   "execution_count": 43,
   "outputs": [],
   "source": [
    "# Rename all columns such that the ML algorithms can work\n",
    "final_data.rename(columns={\"Genre\": \"label\", \"Cast\": \"cast-cat\", \"Plot\": \"text-cat\",\n",
    "                           \"Wiki Page\": \"wiki\", \"Director\": \"director-cat\",\n",
    "                           \"Origin/Ethnicity\": \"origin-cat\", \"Title\": \"title-cat\",\n",
    "                           \"Release Year\": \"year\"}, inplace=True)"
   ],
   "metadata": {
    "collapsed": false,
    "pycharm": {
     "name": "#%%\n"
    }
   }
  },
  {
   "cell_type": "code",
   "execution_count": 44,
   "outputs": [
    {
     "data": {
      "text/plain": "       year                             title-cat origin-cat  \\\n12929  1997                             The Boxer   American   \n12890  1997                          12 Angry Men   American   \n12880  1996                  The Watermelon Woman   American   \n12882  1996                          White Squall   American   \n12884  1996  William Shakespeare's Romeo + Juliet   American   \n...     ...                                   ...        ...   \n296    1919                   Soldiers of Fortune   American   \n2336   1938          The Adventures of Tom Sawyer   American   \n4539   1947                  Queen of the Amazons   American   \n3399   1942                  Pierre of the Plains   American   \n281    1919                       Male and Female   American   \n\n                            director-cat  \\\n12929                       Jim Sheridan   \n12890                   William Friedkin   \n12880                       Cheryl Dunye   \n12882                       Ridley Scott   \n12884                       Baz Luhrmann   \n...                                  ...   \n296                           Allan Dwan   \n2336   Norman Taurog. William A. Wellman   \n4539                       Edward Finney   \n3399                        George Seitz   \n281                     Cecil B. DeMille   \n\n                                                cast-cat      label  \\\n12929                     Daniel Day-Lewis  Emily Watson      drama   \n12890  Jack Lemmon  George C. Scott  James Gandolfini...      drama   \n12880     Cheryl Dunye  Guinevere Turner  Valarie Walker      drama   \n12882           Jeff Bridges  Ryan Phillippe  Scott Wolf      drama   \n12884  Leonardo DiCaprio  Claire Danes  John Leguizam...      drama   \n...                                                  ...        ...   \n296                           Wallace Beery  Ogden Crane  adventure   \n2336              Tommy Kelly  Jackie Moran  Victor Jory  adventure   \n4539                                    Patricia Morison  adventure   \n3399   Ruth Hussey  Bruce Cabot  Reginald Owen  Evely...  adventure   \n281                       Gloria Swanson  Thomas Meighan  adventure   \n\n                                                    wiki  \\\n12929  https://en.wikipedia.org/wiki/The_Boxer_(1997_...   \n12890  https://en.wikipedia.org/wiki/12_Angry_Men_(19...   \n12880  https://en.wikipedia.org/wiki/The_Watermelon_W...   \n12882  https://en.wikipedia.org/wiki/White_Squall_(film)   \n12884  https://en.wikipedia.org/wiki/William_Shakespe...   \n...                                                  ...   \n296    https://en.wikipedia.org/wiki/Soldiers_of_Fort...   \n2336   https://en.wikipedia.org/wiki/The_Adventures_o...   \n4539   https://en.wikipedia.org/wiki/Queen_of_the_Ama...   \n3399   https://en.wikipedia.org/wiki/Pierre_of_the_Pl...   \n281        https://en.wikipedia.org/wiki/Male_and_Female   \n\n                                                text-cat  \n12929  Former Irish pugilist and Provisional IRA memb...  \n12890  When the final closing arguments in a murder t...  \n12880  Cheryl is a young. African American lesbian wh...  \n12882  The film is based on the fate of the brigantin...  \n12884  In Verona Beach. the Capulets and the Montague...  \n...                                                  ...  \n296    Robert Clay. a noble America hero of humble me...  \n2336   The United Artists release includes most of th...  \n4539   Jean Preston (Patricia Morison) is determined ...  \n3399   Pierre (Carroll). a singing French-Canadian tr...  \n281    The film centers on the relationship between L...  \n\n[4500 rows x 8 columns]",
      "text/html": "<div>\n<style scoped>\n    .dataframe tbody tr th:only-of-type {\n        vertical-align: middle;\n    }\n\n    .dataframe tbody tr th {\n        vertical-align: top;\n    }\n\n    .dataframe thead th {\n        text-align: right;\n    }\n</style>\n<table border=\"1\" class=\"dataframe\">\n  <thead>\n    <tr style=\"text-align: right;\">\n      <th></th>\n      <th>year</th>\n      <th>title-cat</th>\n      <th>origin-cat</th>\n      <th>director-cat</th>\n      <th>cast-cat</th>\n      <th>label</th>\n      <th>wiki</th>\n      <th>text-cat</th>\n    </tr>\n  </thead>\n  <tbody>\n    <tr>\n      <th>12929</th>\n      <td>1997</td>\n      <td>The Boxer</td>\n      <td>American</td>\n      <td>Jim Sheridan</td>\n      <td>Daniel Day-Lewis  Emily Watson</td>\n      <td>drama</td>\n      <td>https://en.wikipedia.org/wiki/The_Boxer_(1997_...</td>\n      <td>Former Irish pugilist and Provisional IRA memb...</td>\n    </tr>\n    <tr>\n      <th>12890</th>\n      <td>1997</td>\n      <td>12 Angry Men</td>\n      <td>American</td>\n      <td>William Friedkin</td>\n      <td>Jack Lemmon  George C. Scott  James Gandolfini...</td>\n      <td>drama</td>\n      <td>https://en.wikipedia.org/wiki/12_Angry_Men_(19...</td>\n      <td>When the final closing arguments in a murder t...</td>\n    </tr>\n    <tr>\n      <th>12880</th>\n      <td>1996</td>\n      <td>The Watermelon Woman</td>\n      <td>American</td>\n      <td>Cheryl Dunye</td>\n      <td>Cheryl Dunye  Guinevere Turner  Valarie Walker</td>\n      <td>drama</td>\n      <td>https://en.wikipedia.org/wiki/The_Watermelon_W...</td>\n      <td>Cheryl is a young. African American lesbian wh...</td>\n    </tr>\n    <tr>\n      <th>12882</th>\n      <td>1996</td>\n      <td>White Squall</td>\n      <td>American</td>\n      <td>Ridley Scott</td>\n      <td>Jeff Bridges  Ryan Phillippe  Scott Wolf</td>\n      <td>drama</td>\n      <td>https://en.wikipedia.org/wiki/White_Squall_(film)</td>\n      <td>The film is based on the fate of the brigantin...</td>\n    </tr>\n    <tr>\n      <th>12884</th>\n      <td>1996</td>\n      <td>William Shakespeare's Romeo + Juliet</td>\n      <td>American</td>\n      <td>Baz Luhrmann</td>\n      <td>Leonardo DiCaprio  Claire Danes  John Leguizam...</td>\n      <td>drama</td>\n      <td>https://en.wikipedia.org/wiki/William_Shakespe...</td>\n      <td>In Verona Beach. the Capulets and the Montague...</td>\n    </tr>\n    <tr>\n      <th>...</th>\n      <td>...</td>\n      <td>...</td>\n      <td>...</td>\n      <td>...</td>\n      <td>...</td>\n      <td>...</td>\n      <td>...</td>\n      <td>...</td>\n    </tr>\n    <tr>\n      <th>296</th>\n      <td>1919</td>\n      <td>Soldiers of Fortune</td>\n      <td>American</td>\n      <td>Allan Dwan</td>\n      <td>Wallace Beery  Ogden Crane</td>\n      <td>adventure</td>\n      <td>https://en.wikipedia.org/wiki/Soldiers_of_Fort...</td>\n      <td>Robert Clay. a noble America hero of humble me...</td>\n    </tr>\n    <tr>\n      <th>2336</th>\n      <td>1938</td>\n      <td>The Adventures of Tom Sawyer</td>\n      <td>American</td>\n      <td>Norman Taurog. William A. Wellman</td>\n      <td>Tommy Kelly  Jackie Moran  Victor Jory</td>\n      <td>adventure</td>\n      <td>https://en.wikipedia.org/wiki/The_Adventures_o...</td>\n      <td>The United Artists release includes most of th...</td>\n    </tr>\n    <tr>\n      <th>4539</th>\n      <td>1947</td>\n      <td>Queen of the Amazons</td>\n      <td>American</td>\n      <td>Edward Finney</td>\n      <td>Patricia Morison</td>\n      <td>adventure</td>\n      <td>https://en.wikipedia.org/wiki/Queen_of_the_Ama...</td>\n      <td>Jean Preston (Patricia Morison) is determined ...</td>\n    </tr>\n    <tr>\n      <th>3399</th>\n      <td>1942</td>\n      <td>Pierre of the Plains</td>\n      <td>American</td>\n      <td>George Seitz</td>\n      <td>Ruth Hussey  Bruce Cabot  Reginald Owen  Evely...</td>\n      <td>adventure</td>\n      <td>https://en.wikipedia.org/wiki/Pierre_of_the_Pl...</td>\n      <td>Pierre (Carroll). a singing French-Canadian tr...</td>\n    </tr>\n    <tr>\n      <th>281</th>\n      <td>1919</td>\n      <td>Male and Female</td>\n      <td>American</td>\n      <td>Cecil B. DeMille</td>\n      <td>Gloria Swanson  Thomas Meighan</td>\n      <td>adventure</td>\n      <td>https://en.wikipedia.org/wiki/Male_and_Female</td>\n      <td>The film centers on the relationship between L...</td>\n    </tr>\n  </tbody>\n</table>\n<p>4500 rows × 8 columns</p>\n</div>"
     },
     "execution_count": 44,
     "metadata": {},
     "output_type": "execute_result"
    }
   ],
   "source": [
    "final_data"
   ],
   "metadata": {
    "collapsed": false,
    "pycharm": {
     "name": "#%%\n"
    }
   }
  },
  {
   "cell_type": "code",
   "execution_count": 45,
   "outputs": [],
   "source": [
    "# Save the final data\n",
    "final_data.to_csv(\"final_data.csv\", index=False)\n"
   ],
   "metadata": {
    "collapsed": false,
    "pycharm": {
     "name": "#%%\n"
    }
   }
  }
 ],
 "metadata": {
  "kernelspec": {
   "display_name": "PyCharm (Project)",
   "language": "python",
   "name": "pycharm-4ea0d52d"
  },
  "language_info": {
   "codemirror_mode": {
    "name": "ipython",
    "version": 3
   },
   "file_extension": ".py",
   "mimetype": "text/x-python",
   "name": "python",
   "nbconvert_exporter": "python",
   "pygments_lexer": "ipython3",
   "version": "3.9.7"
  },
  "pycharm": {
   "stem_cell": {
    "cell_type": "raw",
    "source": [
     "\n"
    ],
    "metadata": {
     "collapsed": false
    }
   }
  }
 },
 "nbformat": 4,
 "nbformat_minor": 1
}